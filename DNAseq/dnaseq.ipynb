{
 "cells": [
  {
   "cell_type": "markdown",
   "metadata": {},
   "source": [
    "![UoE](./docs/dc.jpg)\n",
    "\n",
    "# DNAseq Coursework - Processing and analysis of high throughput DNA sequencing data\n",
    "\n",
    "KS Singh<sup>1\\*</sup>\n",
    "\n",
    "<sup>1</sup>College of Life and Environmental Sciences;\n",
    "Penryn Campus, University of Exeter TR10 9FE Cornwall UK\n",
    "\n",
    "<sup>\\*</sup> Correspondence: <ks575@exeter.ac.uk>\n",
    "\n",
    "\n",
    "## Abstract\n",
    "\n",
    "The latest technological advancement along this line, namely next generation of sequencing (NGS), allows to routinely sequence and re-sequence the whole genome of single individuals in a single laboratory within a couple of weeks and at comparably low cost. Having a tool for sequencing massive amounts of DNA enables us to investigate almost any question that is associated with the genetic sequence. First, it allows us to determine the nucleotide sequence of a target region (e.g., all exonic regions or the whole exome) or the complete genome and to identify known as well as novel single nucleotide polymorphisms (SNPs) in the sequenced region. Furthermore, paired reads facilitate the investigation of larger structural variants such as inversions, deletions, and insertions. Analysis of variants reveals the genetic makeup of that particular species and also accounts for differences from other organism or differences due to different conditions. This coursework summarizes the main approaches to analyzing DNAseq data using GATK pipeline and Samtools. It demonstrates approaches to map short-read paired-end sequencing data against the reference genome and calling high quality variants from the sample(s) of interest. \n",
    "\n",
    "1. [Introduction]()\n",
    "2. [Know your data]()\n",
    "3. [Variant calling approaches]()\n",
    "4. [File formats]()\n",
    "5. [Short-read mapping]()\n",
    "6. [Variant calling]()\n",
    "7. [Variant filtering]()\n",
    "8. [Variant annotation using SnpEff]()\n",
    "9. [Process VCF using Python]()\n",
    "\n",
    "\n",
    "## Introduction\n",
    "\n",
    "### General Terminologies\n",
    "\n",
    "**Variant** \n",
    "By genetic variant we mean differences between your sample reads and a \"reference\" genome. As an example, imagine we are sequencing a \"sample\". Here \"sample\" can mean anything that you are interested in studying, from a cell culture, to a mouse or a cancer patient. It is a standard procedure to compare your sample sequences against the corresponding \"reference genome\". For instance you may compare the cancer patient genome against the \"reference genome\". In a typical sequencing experiment, you will find many places in the genome where your sample differs from the reference genome. These are called \"genomic variants\" or just \"variants\". \n",
    "\n",
    "Typically, variants are categorized as follows*:\n",
    "\n",
    "|Type|Meaning|Example|\n",
    "| --- | --- | --- |\n",
    "| SNP | Single-Nucleotide Polymorphism | Reference = A; Sample = C |\n",
    "| INS | Insertion | Reference = A; Sample = AGT |\n",
    "| DEL | Deletion | Reference = AC; Sample = C |\n",
    "| MNP | Multiple-Nucleotide Polymorphism | Reference = ATA; Sample = GTC |\n",
    "| MIXED | Multiple Nucleotide & Insertion Deletion | Reference = ATA; Sample = GTCAGT |   \n",
    "\n",
    "*It’s not a comprehensive list but just to give you an idea\n",
    "\n",
    "**Haplotype**\n",
    "A haplotype is a set of DNA variations, or polymorphisms, that tend to be inherited together. A haplotype can refer to a combination of alleles or to a set of single nucleotide polymorphisms (SNPs) found on the same chromosome.\n",
    "\n",
    "**SNP Calling** \n",
    "process of identifying variable sites.\n",
    "Genotype calling: process that determines the genotype for each individual at each site.\n",
    "\n",
    "![gatk](gatk.png)\n",
    "\n",
    "\n",
    "## know your data\n",
    "\n",
    "- Calling variants from high coverage DNAseq data\n",
    "- Calling variants from low/shallow coverage DNAseq data\n",
    "- Calling variants from RNAseq data\n",
    "- Calling variants from Linkage mapping data (RADseq)\n",
    "\n",
    "## Variant calling approaches\n",
    "\n",
    "### GATK\n",
    "\n",
    "![gatk_workflow](./docs/gatk_workflow.png)"
   ]
  },
  {
   "cell_type": "markdown",
   "metadata": {},
   "source": [
    "## File formats\n",
    "\n",
    "### BAM format\n",
    "\n",
    "### VCF format"
   ]
  },
  {
   "cell_type": "code",
   "execution_count": 1,
   "metadata": {
    "scrolled": true
   },
   "outputs": [
    {
     "name": "stdout",
     "output_type": "stream",
     "text": [
      "total 60\n",
      "drwxr-xr-x 11 ks575 domain^users  4096 May 30 15:50 .\n",
      "drwxr-xr-x  5 ks575 domain^users    63 May 29 09:05 ..\n",
      "drwxr-xr-x  2 ks575 domain^users  4096 May 28 18:14 Bay-S\n",
      "-rw-r--r--  1 ks575 domain^users 19672 May 30 15:50 dnaseq.ipynb\n",
      "drwxr-xr-x  3 ks575 domain^users  4096 May 30 15:48 docs\n",
      "drwxr-xr-x  2 ks575 domain^users  4096 May 28 18:15 genome\n",
      "-rw-r--r--  1 ks575 domain^users  9870 May 29 01:02 hist.txt\n",
      "drwxr-xr-x  2 ks575 domain^users    44 May 28 22:45 .ipynb_checkpoints\n",
      "drwxr-xr-x  2 ks575 domain^users  4096 May 28 18:14 Nl33\n",
      "drwxr-xr-x  2 ks575 domain^users  4096 May 28 18:14 Nl55\n",
      "drwxr-xr-x  2 ks575 domain^users    67 May 28 18:16 snpeff\n",
      "drwxr-xr-x  3 ks575 domain^users    28 May 28 18:15 snpeff_data\n",
      "drwxr-xr-x  2 ks575 domain^users  4096 May 28 18:14 VCF\n",
      "/home/ISAD/ks575/Data/BUF19/DNAseq\n"
     ]
    },
    {
     "name": "stderr",
     "output_type": "stream",
     "text": [
      "\n",
      "Usage:   seqtk <command> <arguments>\n",
      "Version: 1.3-r106\n",
      "\n",
      "Command: seq       common transformation of FASTA/Q\n",
      "         comp      get the nucleotide composition of FASTA/Q\n",
      "         sample    subsample sequences\n",
      "         subseq    extract subsequences from FASTA/Q\n",
      "         fqchk     fastq QC (base/quality summary)\n",
      "         mergepe   interleave two PE FASTA/Q files\n",
      "         trimfq    trim FASTQ using the Phred algorithm\n",
      "\n",
      "         hety      regional heterozygosity\n",
      "         gc        identify high- or low-GC regions\n",
      "         mutfa     point mutate FASTA at specified positions\n",
      "         mergefa   merge two FASTA/Q files\n",
      "         famask    apply a X-coded FASTA to a source FASTA\n",
      "         dropse    drop unpaired from interleaved PE FASTA/Q\n",
      "         rename    rename sequence names\n",
      "         randbase  choose a random base from hets\n",
      "         cutN      cut sequence at long N\n",
      "         listhet   extract the position of each het\n",
      "\n",
      "\n",
      "Usage:   seqtk sample [-2] [-s seed=11] <in.fa> <frac>|<number>\n",
      "\n",
      "Options: -s INT       RNG seed [11]\n",
      "         -2           2-pass mode: twice as slow but with much reduced memory\n",
      "\n"
     ]
    }
   ],
   "source": [
    "%%bash\n",
    "#check the file structure\n",
    "ls -la\n",
    "pwd\n",
    "seqtk\n",
    "seqtk sample"
   ]
  },
  {
   "cell_type": "code",
   "execution_count": null,
   "metadata": {
    "collapsed": true
   },
   "outputs": [],
   "source": [
    "%%bash\n",
    "dnaseq=$(pwd)\n",
    "#Subsample the raw DNAseq data (NOTE:this step is not required when you will analyze your own datasets)\n",
    "#First interleave (merge R1 and R2 together in one file) the two fastq file \n",
    "#Bay-S\n",
    "seqtk mergepe All_Bay-S_R1.fastq All_Bay-S_R2.fastq > All_Bay-S.fastq\n",
    "seqtk sample -2 -s 18 All_Bay-S.fastq 100000 > $dnaseq/Bay-S/All_Bay-S_seed_18_100k.fastq\n",
    "#Nl33\n",
    "seqtk mergepe All_Nl33-eth_R1.fastq All_Nl33-eth_R2.fastq > All_Nl33-eth.fastq\n",
    "seqtk sample -2 -s 18 All_Nl33-eth.fastq 100000 > $dnaseq/Nl33/All_Nl33-eth_seed_18_100k.fastq\n",
    "#Nl55\n",
    "seqtk mergepe All_Nl55-eth_R1.fastq All_Nl55-eth_R2.fastq > All_Nl55-eth.fastq\n",
    "seqtk sample -2 -s 18 All_Nl55-eth.fastq 100000 > $dnaseq/Nl55/All_Nl55-eth_seed_18_100k.fastq"
   ]
  },
  {
   "cell_type": "markdown",
   "metadata": {},
   "source": [
    "## Short read mapping\n",
    "\n",
    "\n",
    "### Index the reference genome\n",
    "\n",
    "1. **FASTA index** We use the faidx command in samtools to prepare the fasta index file. This file describes byte offsets in the fasta file for each contig, allowing us to compute exactly where a particular reference base at contig:pos is in the fasta file. This creates a file called reference.fa.fai, with one record per line for each of the contigs in the FASTA reference file. Each record is composed of the contig name, size, location, basesPerLine and bytesPerLine.\n",
    "\n",
    "2. **FASTA dictionary** This creates a file called reference.dict formatted like a SAM header, describing the contents of your reference FASTA file.The GATK uses two files to access and safety check access to the reference files: a .dict dictionary of the contig names and sizes and a .fai fasta index file to allow efficient random access to the reference bases. You have to generate these files in order to be able to use a Fasta file as reference.\n",
    "\n",
    "3. **BWA index** This creates a set of files called BWA index files to get an efficient fast random access of short reads to reference genome."
   ]
  },
  {
   "cell_type": "code",
   "execution_count": null,
   "metadata": {
    "collapsed": true
   },
   "outputs": [],
   "source": [
    "%%bash\n",
    "dnaseq=$(path)\n",
    "#generate fasta index using samtools faidx function\n",
    "samtools faidx $dnaseq/genome/genome.fa\n",
    "#generate fasta dictionary using picard's createSequenceDictionary.jar\n",
    "picard CreateSequenceDictionary.jar R=$dnaseq/genome/genome.fa O=$dnaseq/genome/genome.dict\n",
    "#generate bwa index\n",
    "bwa index -p $dnaseq/genome/nillu $dnaseq/genome/genome.fa"
   ]
  },
  {
   "cell_type": "code",
   "execution_count": 7,
   "metadata": {},
   "outputs": [
    {
     "name": "stdout",
     "output_type": "stream",
     "text": [
      "total 3094940\n",
      "drwxr-xr-x  2 ks575 domain^users       4096 May 28 18:15 .\n",
      "drwxr-xr-x 11 ks575 domain^users       4096 May 28 23:17 ..\n",
      "-rw-r--r--  1 ks575 domain^users    5713826 May 28 18:14 genome.dict\n",
      "-rw-r--r--  1 ks575 domain^users 1159219512 May 28 18:15 genome.fa\n",
      "-rw-r--r--  1 ks575 domain^users    1659854 May 28 18:15 genome.fa.fai\n",
      "-rw-r--r--  1 ks575 domain^users    1205884 May 28 18:15 nillu.amb\n",
      "-rw-r--r--  1 ks575 domain^users    5014274 May 28 18:15 nillu.ann\n",
      "-rw-r--r--  1 ks575 domain^users 1140786412 May 28 18:15 nillu.bwt\n",
      "-rw-r--r--  1 ks575 domain^users  285196579 May 28 18:15 nillu.pac\n",
      "-rw-r--r--  1 ks575 domain^users  570393208 May 28 18:15 nillu.sa\n"
     ]
    }
   ],
   "source": [
    "%%bash\n",
    "#Check the index files and their structure\n",
    "ls -la ./genome/"
   ]
  },
  {
   "cell_type": "code",
   "execution_count": null,
   "metadata": {
    "collapsed": true
   },
   "outputs": [],
   "source": [
    "%%bash\n",
    "#Map the short reads\n",
    "dnaseq=$(pwd)\n",
    "bwa mem -M -t 60 $dnaseq/genome/nillu $dnaseq/Bay-S/All_Bay-S_seed_18_100k.fastq | samtools view -b -S -F 4 -o $dnaseq/Bay-S/All_Bay-S_seed_18_100k.bam -\n",
    "bwa mem -M -t 60 $dnaseq/genome/nillu $dnaseq/Nl33/All_Nl33-eth_seed_18_100k.fastq | samtools view -b -S -F 4 -o $dnaseq/Nl33/All_Nl33-eth_seed_18_100k.bam -\n",
    "bwa mem -M -t 60 $dnaseq/genome/nillu $dnaseq/Nl55/All_Nl55-eth_seed_18_100k.fastq | samtools view -b -S -F 4 -o $dnaseq/Nl55/All_Nl55-eth_seed_18_100k.bam -"
   ]
  },
  {
   "cell_type": "code",
   "execution_count": null,
   "metadata": {
    "collapsed": true
   },
   "outputs": [],
   "source": [
    "%%bash\n",
    "dnaseq=$(pwd)\n",
    "#Sort the bam files\n",
    "samtools sort $dnaseq/Bay-S/All_Bay-S_seed_18_100k.bam -o $dnaseq/Bay-S/All_Bay-S_seed_18_100k.sorted.bam\n",
    "samtools sort $dnaseq/Nl33/All_Nl33-eth_seed_18_100k.bam -o $dnaseq/Nl33/All_Nl33-eth_seed_18_100k.sorted.bam\n",
    "samtools sort $dnaseq/Nl55/All_Nl55-eth_seed_18_100k.bam -o $dnaseq/Nl55/All_Nl55-eth_seed_18_100k.sorted.bam"
   ]
  },
  {
   "cell_type": "code",
   "execution_count": null,
   "metadata": {
    "collapsed": true
   },
   "outputs": [],
   "source": [
    "%%bash\n",
    "dnaseq=$(pwd)\n",
    "#Add or replace read groups in bam files\n",
    "picard AddOrReplaceReadGroups I=$dnaseq/Bay-S/All_Bay-S_seed_18_100k.sorted.bam O=$dnaseq/Bay-S/All_Bay-S_seed_18_100k.sorted.RG.bam RGID=1 RGLB=Bay-S RGPL=illumina RGPU=unit1 RGSM=Bay-S\n",
    "picard AddOrReplaceReadGroups I=$dnaseq/Nl33/All_Nl33-eth_seed_18_100k.sorted.bam O=$dnaseq/Nl33/All_Nl33-eth_seed_18_100k.sorted.RG.bam RGID=2 RGLB=Nl33-eth RGPL=illumina RGPU=unit1 RGSM=Nl33-eth\n",
    "picard AddOrReplaceReadGroups I=$dnaseq/Nl33/All_Nl55-eth_seed_18_100k.sorted.bam O=$dnaseq/Nl33/All_Nl55-eth_seed_18_100k.sorted.RG.bam RGID=3 RGLB=Nl55-eth RGPL=illumina RGPU=unit1 RGSM=Nl55-eth"
   ]
  },
  {
   "cell_type": "code",
   "execution_count": null,
   "metadata": {
    "collapsed": true
   },
   "outputs": [],
   "source": [
    "%%bash\n",
    "dnaseq=$(pwd)\n",
    "#Mark duplicates in bam files\n",
    "picard MarkDuplicates I=$dnaseq/Bay-S/All_Bay-S_seed_18_100k.sorted.RG.bam O=$dnaseq/Bay-S/All_Bay-S_seed_18_100k.sorted.RG.MD.bam M=marked_dup_metrics.txt\n",
    "picard MarkDuplicates I=$dnaseq/Bay-S/All_Nl33-eth_seed_18_100k.sorted.RG.bam O=$dnaseq/Bay-S/All_Nl33-eth_seed_18_100k.sorted.RG.MD.bam M=marked_dup_metrics.NL33.txt\n",
    "picard MarkDuplicates I=$dnaseq/Bay-S/All_Nl55-eth_seed_18_100k.sorted.RG.bam O=$dnaseq/Bay-S/All_Nl55-eth_seed_18_100k.sorted.RG.MD.bam M=marked_dup_metrics.NL55.txt\n"
   ]
  },
  {
   "cell_type": "code",
   "execution_count": null,
   "metadata": {
    "collapsed": true
   },
   "outputs": [],
   "source": [
    "%%bash\n",
    "dnaseq=$(pwd)\n",
    "#Index the bam files\n",
    "samtools index $dnaseq/Bay-S/All_Bay-S_seed_18_100k.sorted.RG.MD.bam\n",
    "samtools index $dnaseq/Nl33/All_Nl33-eth_seed_18_100k.sorted.RG.MD.bam\n",
    "samtools index $dnaseq/Nl55/All_Nl55-eth_seed_18_100k.sorted.RG.MD.bam"
   ]
  },
  {
   "cell_type": "markdown",
   "metadata": {},
   "source": [
    "#### Base (Quality Score) Recalibration\n",
    "#### Tools: BaseRecalibrator, Apply Recalibration, AnalyzeCovariates (optional)\n",
    "\n",
    "java -Xmx10g -jar GenomeAnalysisTK.jar \n",
    "-T BaseRecalibrator \n",
    "-I LIB_sorted_RG_dup.bam  \n",
    "-R ref.fa \n",
    "--knownSites LIB_qual_filtered.vcf \n",
    "-o recalibration_report.grp\n",
    "\n",
    "\n",
    "java -Xmx10g -jar GenomeAnalysisTK.jar \n",
    "-T PrintReads -R ref.fa \n",
    "-I LIB_sorted_RG_dup.bam \n",
    "-BQSR recalibration_report.grp \n",
    "-o LIB_sorted_RG_dup_BQSR.bam\n",
    "\n",
    "**NOTE**\n",
    "*To perform base quality score recalibration, a reference SNP call file is required. Normally we don’t have it. If you still want to perform BQSR then skip this step and follow the GATK best practices and generate a high quality SNP calls. Then return to BQSR step and run BaseRecalibrator with SNP calls generated in 1st Pass and redo other steps following BQSR*."
   ]
  },
  {
   "cell_type": "markdown",
   "metadata": {},
   "source": [
    "![gatk_workflow](./docs/gatk_workflow.png)"
   ]
  },
  {
   "cell_type": "code",
   "execution_count": null,
   "metadata": {
    "collapsed": true
   },
   "outputs": [],
   "source": [
    "%%bash\n",
    "dnaseq=$(pwd)\n",
    "#Call variants using haplotype caller\n",
    "gatk -T HaplotypeCaller -R $dnaseq/genome/genome.fa -I $dnaseq/Bay-S/All_Bay-S_seed_18_100k.sorted.RG.MD.bam -ERC GVCF -variant_index_type LINEAR -variant_index_parameter 128000 -dontUseSoftClippedBases -stand_call_conf 10.0 -o $dnaseq/Bay-S/All_Bay-S_seed_18_100k.vcf\n",
    "#\n",
    "gatk -T HaplotypeCaller -R $dnaseq/genome/genome.fa -I $dnaseq/Nl33/All_Nl33-eth_seed_18_100k.sorted.RG.MD.bam -ERC GVCF -variant_index_type LINEAR -variant_index_parameter 128000 -dontUseSoftClippedBases -stand_call_conf 10.0 -o $dnaseq/Nl33/All_Nl33-eth_seed_18_100k.vcf\n",
    "#\n",
    "gatk -T HaplotypeCaller -R $dnaseq/genome/genome.fa -I $dnaseq/Nl55/All_Nl55-eth_seed_18_100k.sorted.RG.MD.bam -ERC GVCF -variant_index_type LINEAR -variant_index_parameter 128000 -dontUseSoftClippedBases -stand_call_conf 10.0 -o $dnaseq/Nl55/All_Nl55-eth_seed_18_100k.vcf"
   ]
  },
  {
   "cell_type": "markdown",
   "metadata": {},
   "source": [
    "![GVCF](./docs/blocks.png)"
   ]
  },
  {
   "cell_type": "code",
   "execution_count": null,
   "metadata": {
    "collapsed": true
   },
   "outputs": [],
   "source": [
    "%%bash\n",
    "dnaseq=$(pwd)\n",
    "#Perform joint genotyping on the cohort\n",
    "gatk -R $dnaseq/genome/genome.fa -T GenotypeGVCFs --variant $dnaseq/Bay-S/All_Bay-S_seed_18_100k.vcf --variant $dnaseq/Nl33/All_Nl33-eth_seed_18_100k.vcf --variant $dnaseq/Nl55/All_Nl55-eth_seed_18_100k.vcf -O $dnaseq/VCF/All_nillu_samples.vcf"
   ]
  },
  {
   "cell_type": "markdown",
   "metadata": {},
   "source": [
    "![vcf1](./docs/vcf1.png)"
   ]
  },
  {
   "cell_type": "code",
   "execution_count": null,
   "metadata": {
    "collapsed": true
   },
   "outputs": [],
   "source": [
    "%%bash\n",
    "dnaseq=$(pwd)\n",
    "#Filter INDELS from the VCF file\n",
    "gatk -R $dnaseq/genome/genome.fa -T SelectVariants -V $dnaseq/VCF/All_nillu_samples.vcf -o $dnaseq/VCF/All_nillu_samples.snps.vcf --selectTypeToExclude INDEL"
   ]
  },
  {
   "cell_type": "markdown",
   "metadata": {},
   "source": [
    "![vcf2-1](./docs/vcf2-1.png)\n",
    "\n",
    "![vcf2-2](./docs/vcf2-2.png)"
   ]
  },
  {
   "cell_type": "code",
   "execution_count": null,
   "metadata": {
    "collapsed": true
   },
   "outputs": [],
   "source": [
    "%%bash\n",
    "dnaseq=$(pwd)\n",
    "#Filter low quality SNPs calls\n",
    "gatk -R $dnaseq/genome/genome.fa -T VariantFiltration -V $dnaseq/VCF/All_nillu_samples.snps.vcf --filterExpression \"QD < 5.0 || FS > 60.0 || MQ < 60.0 || HaplotypeScore > 13.0 || MappingQualityRankSum < -12.5 || ReadPosRankSum < -8.0\" --filterName \"NO_Quality\" -o $dnaseq/VCF/All_nillu_samples.snps.filtered.vcf"
   ]
  },
  {
   "cell_type": "markdown",
   "metadata": {},
   "source": [
    "![vcf3](./docs/vcf3.png)"
   ]
  },
  {
   "cell_type": "markdown",
   "metadata": {},
   "source": [
    "### SNP calling using *samtools*\n",
    "\n",
    "SAMTools based approach is not recommended for RNA-Seq data. It’s good to have a brief summary of SNPs using this approach but to get more confidence on estimated SNPs, one should use GATK pipeline. \n",
    "\n",
    "![samtools](./docs/samtools.png)"
   ]
  },
  {
   "cell_type": "markdown",
   "metadata": {
    "collapsed": true
   },
   "source": [
    "![samtools](./docs/pileup.png)\n",
    "![samtools](./docs/pileup2.png)"
   ]
  },
  {
   "cell_type": "markdown",
   "metadata": {},
   "source": [
    "### Variant annotation\n",
    "\n",
    "Download the snpEff installer from the website (http://snpeff.sourceforge.net/).\n",
    "\n",
    "In order to produce the annotations, SnpEff requires a database. Currently, there are pre-built database for over 20,000 reference genomes. This means that most cases are covered. In some very rare occasions, people need to build a database for an organism not currently supported (e.g. the genome is not publicly available). \n",
    "\n",
    "Which databases are supported? You can find out all the supported databases by running the database command:\n",
    " \n",
    "    java -jar snpEff.jar databases | less\n",
    "\n",
    "This command shows the database name, genome name and source data (where was the genome reference data obtained \n",
    "from). \n",
    "\n",
    "**Create Nilaparvata lugens database**\n",
    "1. Edit the config file.\n",
    "2. Nlugens.genome : Nilaparvata_lugens\n",
    "3. Edit the data.dir attribute in config file\n",
    "4. rename the gff in to genes.gff and fasta file to sequences.fa\n",
    "5. Put bothe genes.gff and sequences.fa in ./Nlugens/ directory\n",
    "\n",
    "[Example config file](https://github.com/pcingola/SnpEff/blob/master/snpEff.config)\n",
    "\n",
    "Run the command\n",
    "\n",
    "    java -Xmx4g -jar snpEff.jar build -gff3 v Nlugens\n",
    "\n",
    "now run the following command for snpeff\n",
    "\n",
    "    java -Xmx4g -jar /home/data/kumars/Additional_tools/snpEff/snpEff.jar Nlugens /home/data/kumars/Helicoverpa_armigera/GenotypeGCVFs/all/all_merge_AY_DF_CR.vcf > test_ann_1st_run.vcf"
   ]
  },
  {
   "cell_type": "markdown",
   "metadata": {},
   "source": [
    "[SNP Annotation](./snpeff/snpEff_summary.html)"
   ]
  }
 ],
 "metadata": {
  "kernelspec": {
   "display_name": "Python 2",
   "language": "python",
   "name": "python2"
  },
  "language_info": {
   "codemirror_mode": {
    "name": "ipython",
    "version": 2
   },
   "file_extension": ".py",
   "mimetype": "text/x-python",
   "name": "python",
   "nbconvert_exporter": "python",
   "pygments_lexer": "ipython2",
   "version": "2.7.13"
  }
 },
 "nbformat": 4,
 "nbformat_minor": 2
}
