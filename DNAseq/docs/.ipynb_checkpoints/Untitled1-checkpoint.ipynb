{
 "cells": [
  {
   "cell_type": "markdown",
   "metadata": {},
   "source": [
    "![UoE](dc.png)\n",
    "\n",
    "# DNAseq Coursework - Processing and analysis of high throughput DNA sequencing data\n",
    "\n",
    "KS Singh<sup>1\\*</sup>\n",
    "\n",
    "<sup>1</sup>College of Life and Environmental Sciences;\n",
    "Penryn Campus, University of Exeter TR10 9FE Cornwall UK\n",
    "\n",
    "<sup>\\*</sup> Correspondence: <ks575@exeter.ac.uk>\n",
    "\n",
    "\n",
    "## Abstract\n",
    "\n",
    "The latest technological advancement along this line, namely next generation of sequencing (NGS), allows to routinely sequence and re-sequence the whole genome of single individuals in a single laboratory within a couple of weeks and at comparably low cost. Having a tool for sequencing massive amounts of DNA enables us to investigate almost any question that is associated with the genetic sequence. First, it allows us to determine the nucleotide sequence of a target region (e.g., all exonic regions or the whole exome) or the complete genome and to identify known as well as novel single nucleotide polymorphisms (SNPs) in the sequenced region. Furthermore, paired reads facilitate the investigation of larger structural variants such as inversions, deletions, and insertions. Analysis of variants reveals the genetic makeup of that particular species and also accounts for differences from other organism or differences due to different conditions. This coursework summarizes the main approaches to analyzing DNAseq data using GATK pipeline and Samtools. It demonstrates approaches to map short-read paired-end sequencing data against the reference genome and calling high quality variants from the sample(s) of interest. \n",
    "\n",
    "1. [Introduction]()\n",
    "2. [Know your data]()\n",
    "3. [Variant calling approaches]()\n",
    "4. [File formats]()\n",
    "5. [Short-read mapping]()\n",
    "6. [Variant calling]()\n",
    "7. [Variant filtering]()\n",
    "8. [Variant annotation using SnpEff]()\n",
    "9. [Process VCF using Python]()\n",
    "\n",
    "\n",
    "## Introduction\n",
    "\n",
    "### General Terminologies\n",
    "\n",
    "**Variant** \n",
    "By genetic variant we mean difference between a genome and a \"reference\" genome. As an example, imagine we are sequencing a \"sample\". Here \"sample\" can mean anything that you are interested in studying, from a cell culture, to a mouse or a cancer patient. It is a standard procedure to compare your sample sequences against the corresponding \"reference genome\". For instance you may compare the cancer patient genome against the \"reference genome\". In a typical sequencing experiment, you will find many places in the genome where your sample differs from the reference genome. These are called \"genomic variants\" or just \"variants\". \n",
    "\n",
    "Typically, variants are categorized as follows*:\n",
    "\n",
    "|Type|Meaning|Example|\n",
    "| --- | --- | --- |\n",
    "| SNP | Single-Nucleotide Polymorphism | Reference = A; Sample = C |\n",
    "| INS | Insertion | Reference = A; Sample = AGT |\n",
    "| DEL | Deletion | Reference = AC; Sample = C |\n",
    "| MNP | Multiple-Nucleotide Polymorphism | Reference = ATA; Sample = GTC |\n",
    "| MIXED | Multiple Nucleotide & Insertion Deletion | Reference = ATA; Sample = GTCAGT |   \n",
    "\n",
    "*It’s not a comprehensive list but just to give you an idea\n",
    "\n",
    "**Haplotype**\n",
    "A haplotype is a set of DNA variations, or polymorphisms, that tend to be inherited together. A haplotype can refer to a combination of alleles or to a set of single nucleotide polymorphisms (SNPs) found on the same chromosome.\n",
    "\n",
    "**SNP Calling** \n",
    "process of identifying variable sites.\n",
    "Genotype calling: process that determines the genotype for each individual at each site.\n",
    "\n",
    "![gatk](gatk.png)\n",
    "\n",
    "\n",
    "## know your data\n",
    "\n",
    "- Calling variants from high coverage DNAseq data\n",
    "- Calling variants from low/shallow coverage DNAseq data\n",
    "- Calling variants from RNAseq data\n",
    "- Calling variants from Linkage mapping data (RADseq)\n",
    "\n",
    "## Variant calling approaches\n",
    "\n",
    "### GATK\n",
    "\n",
    "![gatk_workflow](gatk_workflow.png)\n",
    "\n",
    "### Samtools\n",
    "\n",
    "![samtools](samtools.png)"
   ]
  },
  {
   "cell_type": "code",
   "execution_count": 2,
   "metadata": {
    "scrolled": true
   },
   "outputs": [
    {
     "name": "stdout",
     "output_type": "stream",
     "text": [
      "total 20\r\n",
      "drwxr-xr-x 10 ks575 domain^users  141 May 28 22:22 .\r\n",
      "drwxr-xr-x  4 ks575 domain^users   44 May 28 18:14 ..\r\n",
      "drwxr-xr-x  2 ks575 domain^users 4096 May 28 18:14 Bay-S\r\n",
      "drwxr-xr-x  3 ks575 domain^users  135 May 28 22:22 docs\r\n",
      "drwxr-xr-x  2 ks575 domain^users 4096 May 28 18:15 genome\r\n",
      "drwxr-xr-x  2 ks575 domain^users 4096 May 28 18:14 Nl33\r\n",
      "drwxr-xr-x  2 ks575 domain^users 4096 May 28 18:14 Nl55\r\n",
      "drwxr-xr-x  2 ks575 domain^users   67 May 28 18:16 snpeff\r\n",
      "drwxr-xr-x  3 ks575 domain^users   28 May 28 18:15 snpeff_data\r\n",
      "drwxr-xr-x  2 ks575 domain^users 4096 May 28 18:14 VCF\r\n"
     ]
    }
   ],
   "source": [
    "#check the file structure\n",
    "!ls -la ../"
   ]
  },
  {
   "cell_type": "code",
   "execution_count": 3,
   "metadata": {},
   "outputs": [
    {
     "name": "stdout",
     "output_type": "stream",
     "text": [
      "/home/ISAD/ks575/Data/BUF19/DNAseq/docs\r\n"
     ]
    }
   ],
   "source": [
    "!ls -la ../"
   ]
  }
 ],
 "metadata": {
  "kernelspec": {
   "display_name": "Python 3",
   "language": "python",
   "name": "python3"
  },
  "language_info": {
   "codemirror_mode": {
    "name": "ipython",
    "version": 3
   },
   "file_extension": ".py",
   "mimetype": "text/x-python",
   "name": "python",
   "nbconvert_exporter": "python",
   "pygments_lexer": "ipython3",
   "version": "3.6.2"
  }
 },
 "nbformat": 4,
 "nbformat_minor": 2
}
